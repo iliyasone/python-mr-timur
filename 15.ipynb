{
 "cells": [
  {
   "cell_type": "code",
   "execution_count": 19,
   "metadata": {},
   "outputs": [],
   "source": [
    "def test_a(a: int):\n",
    "    for x in range(1000):\n",
    "        for y in range(1000):\n",
    "            if (x >= 12 or (3*x) < y or x*y < a):\n",
    "                pass         # эта точка подходит, но что насчет других ???\n",
    "            else:\n",
    "                return False # нашли точку которая не подходит, а точно не подходит\n",
    "    return True              # все точки подошли - a подходит  "
   ]
  },
  {
   "cell_type": "code",
   "execution_count": 20,
   "metadata": {},
   "outputs": [
    {
     "name": "stdout",
     "output_type": "stream",
     "text": [
      "364\n"
     ]
    }
   ],
   "source": [
    "for a in range(500):\n",
    "    if test_a(a):\n",
    "        print(a)\n",
    "        break"
   ]
  },
  {
   "cell_type": "markdown",
   "metadata": {},
   "source": [
    "Если не функции"
   ]
  },
  {
   "cell_type": "code",
   "execution_count": 21,
   "metadata": {},
   "outputs": [
    {
     "name": "stdout",
     "output_type": "stream",
     "text": [
      "364\n"
     ]
    }
   ],
   "source": [
    "for a in range(500):\n",
    "    is_a_okay = True\n",
    "    for x in range(1000):\n",
    "        for y in range(1000):\n",
    "            if (x >= 12 or (3*x) < y or x*y < a):\n",
    "                pass         # эта точка подходит, но что насчет других ???\n",
    "            else: # нашли точку которая не подходит, а точно не подходит\n",
    "                is_a_okay = False\n",
    "                break\n",
    "        if not is_a_okay:\n",
    "            break           \n",
    "    if is_a_okay:\n",
    "        print(a)\n",
    "        break\n",
    "    # все точки подошли - a подходит  "
   ]
  }
 ],
 "metadata": {
  "kernelspec": {
   "display_name": "Python 3",
   "language": "python",
   "name": "python3"
  },
  "language_info": {
   "codemirror_mode": {
    "name": "ipython",
    "version": 3
   },
   "file_extension": ".py",
   "mimetype": "text/x-python",
   "name": "python",
   "nbconvert_exporter": "python",
   "pygments_lexer": "ipython3",
   "version": "3.12.6"
  }
 },
 "nbformat": 4,
 "nbformat_minor": 2
}
