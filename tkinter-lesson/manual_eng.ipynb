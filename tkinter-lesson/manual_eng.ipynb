{
    "cells": [
        {
            "cell_type": "markdown",
            "metadata": {},
            "source": [
                "*Below is a complete “manual” (or методичка) that walks you through converting a command‐line image processing script into a simple Windows GUI application using Python’s built‑in **Tkinter** library.*"
            ]
        },
        {
            "cell_type": "markdown",
            "metadata": {},
            "source": [
                "## 1. Survey of Python GUI Libraries\n",
                "\n",
                "For many projects you have several choices when it comes to building a GUI in Python. Here’s a brief overview:\n",
                "\n",
                "- **Tkinter**  \n",
                "  - **Pros:**  \n",
                "    - It comes with Python (no extra installation required).  \n",
                "    - It is simple and well‑documented, making it perfect for school projects.  \n",
                "    - It is sufficient for creating standard dialog boxes, buttons, text entries, etc.\n",
                "  - **Cons:**  \n",
                "    - It is not as “modern” in look as some other frameworks.\n",
                "\n",
                "- **Pygame**  \n",
                "  - **Pros:**  \n",
                "    - Great for game development and interactive graphics.\n",
                "  - **Cons:**  \n",
                "    - It is not designed for conventional GUI applications (dialogs, forms, etc.).  \n",
                "    - Overkill for a simple file‐processing tool.\n",
                "\n",
                "- **PyQt / PySide**  \n",
                "  - **Pros:**  \n",
                "    - Feature‑rich and supports modern UI designs.\n",
                "  - **Cons:**  \n",
                "    - Has a steeper learning curve and extra installation steps, which may be more than needed for a school project.\n",
                "\n",
                "- **Kivy**  \n",
                "  - **Pros:**  \n",
                "    - Excellent for multi‑touch and cross‑platform mobile/desktop apps.\n",
                "  - **Cons:**  \n",
                "    - More advanced and less straightforward for simple desktop apps.\n",
                "\n",
                "**Conclusion:** For a school project where simplicity and ease of deployment are key, **Tkinter** is the best choice."
            ]
        },
        {
            "cell_type": "markdown",
            "metadata": {},
            "source": [
                "## 2. Why Choose Tkinter?\n",
                "\n",
                "We choose Tkinter because:\n",
                "- **It’s built-in:** No need for extra dependencies.\n",
                "- **It is simple:** Ideal for learning the basics of event‑driven programming.\n",
                "- **It meets our needs:** We can easily add text boxes, buttons, and file dialogs—all we need to wrap our command‑line script in a friendly interface."
            ]
        },
        {
            "cell_type": "code",
            "execution_count": null,
            "metadata": {},
            "outputs": [],
            "source": [
                "import tkinter as tk\n",
                "\n",
                "root = tk.Tk()  # Creates the main window (the “root” widget)\n",
                "root.title(\"My Tkinter App\")  # Sets the window title\n",
                "root.mainloop()  # Enters the Tkinter event loop (more on this below)"
            ]
        },
        {
            "cell_type": "markdown",
            "metadata": {},
            "source": [
                "## 3. Step‑by‑Step Introduction to Tkinter\n",
                "\n",
                "### 3.1. Creating a Basic Window\n",
                "\n",
                "The starting point of any Tkinter application is the **main window**. This is done with:\n",
                "\n",
                "- **`Tk()` instance:** The container for all widgets.  \n",
                "- **`mainloop()`:** This method starts the event‑driven runtime cycle which waits for events (like button clicks) and updates the interface accordingly."
            ]
        },
        {
            "cell_type": "code",
            "execution_count": null,
            "metadata": {},
            "outputs": [],
            "source": [
                "text_entry = tk.Entry(root, width=40)\n",
                "text_entry.pack(pady=5)"
            ]
        },
        {
            "cell_type": "markdown",
            "metadata": {},
            "source": [
                "### 3.2. Creating an Input Box for Text\n",
                "\n",
                "To let the user type in text (for instance, to provide a parameter or a comment), we use the **Entry** widget:\n",
                "\n",
                "- **`Entry`:** A single‑line text input widget.  \n",
                "- **`pack()`:** A simple geometry manager that adds the widget to the window.  \n",
                "- **`pady=5`:** Adds vertical padding."
            ]
        },
        {
            "cell_type": "code",
            "execution_count": null,
            "metadata": {},
            "outputs": [],
            "source": [
                "def on_button_click():\n",
                "    user_text = text_entry.get()  # Retrieve the text from the input box\n",
                "    print(\"User entered:\", user_text)  # Here, you can call your processing logic\n",
                "\n",
                "action_button = tk.Button(root, text=\"Submit\", command=on_button_click)\n",
                "action_button.pack(pady=5)"
            ]
        },
        {
            "cell_type": "markdown",
            "metadata": {},
            "source": [
                "### 3.3. Binding GUI to Python Logic\n",
                "\n",
                "To process user input, we can add a **Button** that, when clicked, calls a function:\n",
                "\n",
                "- **`Button`:** A clickable widget.  \n",
                "- **`command`:** Specifies the function to run when the button is clicked."
            ]
        },
        {
            "cell_type": "code",
            "execution_count": null,
            "metadata": {},
            "outputs": [],
            "source": [
                "from tkinter import filedialog\n",
                "\n",
                "def choose_input_file():\n",
                "    file_path = filedialog.askopenfilename(\n",
                "        title=\"Select Input Image\",\n",
                "        filetypes=[(\"Image Files\", \"*.png;*.jpg;*.jpeg\")]\n",
                "    )\n",
                "    print(\"Input file chosen:\", file_path)\n",
                "    # You can store file_path in a global variable or update a label widget"
            ]
        },
        {
            "cell_type": "markdown",
            "metadata": {},
            "source": [
                "### 3.4. Letting the User Choose a File (Input)\n",
                "\n",
                "Tkinter provides file dialog modules to select files:\n",
                "\n",
                "- **`askopenfilename`:** Pops up a dialog for selecting an existing file."
            ]
        },
        {
            "cell_type": "code",
            "execution_count": null,
            "metadata": {},
            "outputs": [],
            "source": [
                "def choose_output_file():\n",
                "    file_path = filedialog.asksaveasfilename(\n",
                "        title=\"Save Output Image\",\n",
                "        defaultextension=\".png\",\n",
                "        filetypes=[(\"PNG Image\", \"*.png\"), (\"JPEG Image\", \"*.jpg;*.jpeg\")]\n",
                "    )\n",
                "    print(\"Output file chosen:\", file_path)"
            ]
        },
        {
            "cell_type": "markdown",
            "metadata": {},
            "source": [
                "### 3.5. Letting the User Choose an Output File\n",
                "\n",
                "Similarly, to select where to save the output image, use:\n",
                "\n",
                "- **`asksaveasfilename`:** Pops up a “save as” dialog to let the user choose a destination and filename."
            ]
        },
        {
            "cell_type": "markdown",
            "metadata": {},
            "source": [
                "### 3.6. Understanding Tkinter’s Runtime\n",
                "\n",
                "- **The Event Loop (`mainloop`):**  \n",
                "  When you call `root.mainloop()`, Tkinter enters an infinite loop where it listens for events (like button clicks or key presses) and dispatches them to your callback functions. This loop is single‑threaded by default.\n",
                "\n",
                "- **Widgets and Instances:**  \n",
                "  Each widget (like `Button`, `Entry`, or `Label`) is an instance of a Tkinter class. They are added to the main window and arranged with geometry managers (like `pack`, `grid`, or `place`).\n",
                "\n",
                "- **Blocking Operations:**  \n",
                "  Because the main loop is single‑threaded, any long‑running task executed directly (for example, processing a high‑resolution image that takes several minutes) will block the loop. This means the GUI will “freeze” until the task completes."
            ]
        },
        {
            "cell_type": "code",
            "execution_count": null,
            "metadata": {},
            "outputs": [],
            "source": [
                "import threading\n",
                "\n",
                "def start_processing():\n",
                "    # Validate input and output selection here…\n",
                "    threading.Thread(target=process_image).start()  # Run process_image in a new thread"
            ]
        },
        {
            "cell_type": "markdown",
            "metadata": {},
            "source": [
                "### 3.7. Multi‑Threading and a Loading Screen\n",
                "\n",
                "**Why Freezing Occurs:**  \n",
                "If a heavy computation (like enhancing a high‑resolution image) is performed in the main thread, the event loop cannot update the GUI until the computation finishes. This results in a frozen (non‑responsive) interface.\n",
                "\n",
                "**Solution: Multi‑Threading**  \n",
                "By running the heavy task in a separate thread, the GUI remains responsive. A simple loading screen (or status message) can notify the user that processing is in progress.\n",
                "\n",
                "For example:\n",
                "\n",
                "- **`threading.Thread`:** Creates a new thread to run the function `process_image` without blocking the main loop.\n",
                "\n",
                "**Loading Screen / Status Label:**  \n",
                "Update a label widget (from the main thread) to show the status of the process (e.g., “Processing…”). Note that while it is best practice to update GUI elements from the main thread, simple examples may update a status label from within the worker thread if care is taken."
            ]
        },
        {
            "cell_type": "markdown",
            "metadata": {},
            "source": [
                "### 3.8. Using Pure Functions vs. Classes\n",
                "\n",
                "While object‑oriented design (using classes) is often recommended for large projects, for this school project we will use **pure functions**. This makes the code simpler and easier to follow:\n",
                "- Each task (e.g., choosing a file, processing the image) is handled by its own function.\n",
                "- Global variables (or variables stored at the module level) may be used to share state (like file paths)."
            ]
        },
        {
            "cell_type": "code",
            "execution_count": null,
            "metadata": {},
            "outputs": [],
            "source": [
                "import tkinter as tk\n",
                "from tkinter import filedialog, messagebox\n",
                "import threading\n",
                "import torch\n",
                "import numpy as np\n",
                "from PIL import Image\n",
                "from basicsr.archs.rrdbnet_arch import RRDBNet  # Model architecture\n",
                "from realesrgan import RealESRGANer  # The upscaling framework\n",
                "\n",
                "# Global variables to store file paths\n",
                "input_file = None\n",
                "output_file = None\n",
                "\n",
                "def choose_input_file():\n",
                "    \"\"\"Open a dialog to choose an input image file.\"\"\"\n",
                "    global input_file\n",
                "    input_file = filedialog.askopenfilename(\n",
                "        title=\"Select Input Image\",\n",
                "        filetypes=[(\"Image Files\", \"*.png;*.jpg;*.jpeg\")]\n",
                "    )\n",
                "    if input_file:\n",
                "        input_label.config(text=f\"Input File: {input_file}\")\n",
                "\n",
                "def choose_output_file():\n",
                "    \"\"\"Open a dialog to choose where to save the output image.\"\"\"\n",
                "    global output_file\n",
                "    output_file = filedialog.asksaveasfilename(\n",
                "        title=\"Save Output Image\",\n",
                "        defaultextension=\".png\",\n",
                "        filetypes=[(\"PNG Image\", \"*.png\"), (\"JPEG Image\", \"*.jpg;*.jpeg\")]\n",
                "    )\n",
                "    if output_file:\n",
                "        output_label.config(text=f\"Output File: {output_file}\")\n",
                "\n",
                "def process_image():\n",
                "    \"\"\"\n",
                "    Process the image using the upscaling model.\n",
                "    This function runs in a separate thread to avoid freezing the GUI.\n",
                "    \"\"\"\n",
                "    # Update the status label (use the main thread to update GUI if needed)\n",
                "    status_label.config(text=\"Status: Processing...\")\n",
                "    try:\n",
                "        # --- Original Script Logic Starts Here ---\n",
                "        model_path = 'RealESRGAN_x4plus.pth'\n",
                "\n",
                "        # Load the model weights\n",
                "        state_dict = torch.load(model_path, map_location=torch.device('cpu'))['params_ema']\n",
                "\n",
                "        # Create and load the model\n",
                "        model = RRDBNet(\n",
                "            num_in_ch=3, \n",
                "            num_out_ch=3, \n",
                "            num_feat=64, \n",
                "            num_block=23, \n",
                "            num_grow_ch=32, \n",
                "            scale=4\n",
                "        )\n",
                "        model.load_state_dict(state_dict, strict=True)\n",
                "\n",
                "        # Initialize the upsampler\n",
                "        upsampler = RealESRGANer(\n",
                "            scale=4,\n",
                "            model_path=model_path,\n",
                "            model=model,\n",
                "            tile=0,\n",
                "            pre_pad=0,\n",
                "            half=False\n",
                "        )\n",
                "\n",
                "        # Open the input image and convert it to an array\n",
                "        input_img = Image.open(input_file).convert('RGB')\n",
                "        img = np.array(input_img)\n",
                "\n",
                "        # Enhance (upscale) the image\n",
                "        output, _ = upsampler.enhance(img, outscale=4)\n",
                "\n",
                "        # Save the output image\n",
                "        output_img = Image.fromarray(output)\n",
                "        output_img.save(output_file)\n",
                "        # --- Original Script Logic Ends Here ---\n",
                "\n",
                "        status_label.config(text=\"Status: Processing Completed!\")\n",
                "    except Exception as e:\n",
                "        status_label.config(text=f\"Status: Error - {e}\")\n",
                "\n",
                "def start_processing():\n",
                "    \"\"\"Validate file selections and start image processing in a new thread.\"\"\"\n",
                "    if not input_file or not output_file:\n",
                "        messagebox.showwarning(\"Warning\", \"Please choose both input and output files.\")\n",
                "        return\n",
                "    # Start the processing in a separate thread to keep the GUI responsive.\n",
                "    threading.Thread(target=process_image, daemon=True).start()\n",
                "\n",
                "# --- GUI Construction ---\n",
                "\n",
                "# Create the main window (root widget)\n",
                "root = tk.Tk()\n",
                "root.title(\"Image Upscaler\")\n",
                "\n",
                "# Create a button to select the input file\n",
                "choose_input_button = tk.Button(root, text=\"Choose Input Image\", command=choose_input_file)\n",
                "choose_input_button.pack(pady=5)\n",
                "\n",
                "# Label to display the selected input file path\n",
                "input_label = tk.Label(root, text=\"Input File: Not selected\")\n",
                "input_label.pack()\n",
                "\n",
                "# Create a button to select the output file\n",
                "choose_output_button = tk.Button(root, text=\"Choose Output Image\", command=choose_output_file)\n",
                "choose_output_button.pack(pady=5)\n",
                "\n",
                "\n",
                "# Label to display the selected output file path\n",
                "output_label = tk.Label(root, text=\"Output File: Not selected\")\n",
                "output_label.pack()\n",
                "\n",
                "# (Optional) Create a text input box for additional parameters\n",
                "text_entry = tk.Entry(root, width=40)\n",
                "text_entry.pack(pady=5)\n",
                "# You can retrieve its content later via: user_text = text_entry.get()\n",
                "\n",
                "# Button to start the image processing\n",
                "process_button = tk.Button(root, text=\"Start Processing\", command=start_processing)\n",
                "process_button.pack(pady=10)\n",
                "\n",
                "# Label to display the current status (idle, processing, error, etc.)\n",
                "status_label = tk.Label(root, text=\"Status: Idle\")\n",
                "status_label.pack(pady=5)\n",
                "\n",
                "# Start the Tkinter event loop (this call blocks and handles all GUI events)\n",
                "root.mainloop()"
            ]
        },
        {
            "cell_type": "markdown",
            "metadata": {},
            "source": [
                "## 4. Final Updated Code Example\n",
                "\n",
                "Below is the complete updated code that wraps the original image upscaling script in a Tkinter GUI. This code demonstrates:\n",
                "\n",
                "- A main window with buttons to select input and output files.\n",
                "- A text input box (which you may later use for additional parameters if needed).\n",
                "- A “Start Processing” button that triggers the image upscaling in a separate thread.\n",
                "- A status label to indicate when processing is underway or completed.\n",
                "\n",
                "> **Note:** Make sure you have the required packages installed (e.g., `torch`, `numpy`, `Pillow`, `basicsr`, `realesrgan`)."
            ]
        },
        {
            "cell_type": "markdown",
            "metadata": {},
            "source": [
                "## 5. Final Discussion\n",
                "\n",
                "- **Tkinter Instances & Their Meaning:**  \n",
                "  - **`Tk()`** creates the main application window.  \n",
                "  - **`Button`**, **`Label`**, and **`Entry`** are widgets that let users interact with your program.  \n",
                "  - **`pack()`** (and other geometry managers) arranges these widgets on the screen.\n",
                "\n",
                "- **Event Loop and Runtime Cycle:**  \n",
                "  - The call to **`mainloop()`** starts the event loop. This loop listens for user events (mouse clicks, key presses) and dispatches them to your callback functions.  \n",
                "  - Since the loop is single‑threaded, any long computation done in the main thread will block the interface.\n",
                "\n",
                "- **Why Interface Freezing Occurs:**  \n",
                "  - If you perform heavy tasks (like image upscaling, which may take several minutes per image) in the main thread, the GUI cannot update until the task finishes.  \n",
                "  - Using **multi‑threading** (via the `threading` module) moves the heavy computation to a background thread, keeping the interface responsive.\n",
                "\n",
                "- **Pure Functions vs. Classes:**  \n",
                "  - In this manual, we have used simple, pure functions to keep the code easy to follow.  \n",
                "  - For larger projects, using classes (object‑oriented design) can make the code more modular and maintainable, but for this example, pure functions are perfectly acceptable.\n",
                "\n",
                "- **Multi‑Threading & Loading Screen:**  \n",
                "  - We introduced multi‑threading by wrapping the `process_image` function in a `threading.Thread` call.  \n",
                "  - A status label informs the user that processing is underway, helping to improve the user experience while the background thread performs the heavy computation."
            ]
        },
        {
            "cell_type": "markdown",
            "metadata": {},
            "source": [
                "*prepared [@iliyasone](t.me/iliyasonen) and o3-mini-high*"
            ]
        }
    ],
    "metadata": {
        "language_info": {
            "name": "python"
        }
    },
    "nbformat": 4,
    "nbformat_minor": 4
}
