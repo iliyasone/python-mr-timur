{
 "cells": [
  {
   "cell_type": "code",
   "execution_count": 10,
   "metadata": {},
   "outputs": [
    {
     "data": {
      "text/plain": [
       "(0, 1, 3)"
      ]
     },
     "execution_count": 10,
     "metadata": {},
     "output_type": "execute_result"
    }
   ],
   "source": [
    "weights = [1, 2, 4, 2, 5]\n",
    "values  = [5, 3, 5, 3, 2] \n",
    "\n",
    "def knapsack_problem(i = 0, c = 5):\n",
    "    if i >= len(weights) or c == 0:\n",
    "        return ()\n",
    "    assert c >= 0\n",
    "    \n",
    "    tmp1 = knapsack_problem(i+1, c)\n",
    "\n",
    "    if c - weights[i] < 0:\n",
    "        return tmp1\n",
    "    \n",
    "    tmp2 = (i, ) + knapsack_problem(i+1, c - weights[i])\n",
    "\n",
    "    return max(tmp1, tmp2, key = lambda x: sum(values[i] for i in x))\n",
    "    \n",
    "    \n",
    "\n",
    "knapsack_problem()"
   ]
  },
  {
   "cell_type": "code",
   "execution_count": 4,
   "metadata": {},
   "outputs": [
    {
     "data": {
      "text/plain": [
       "'BAD'"
      ]
     },
     "execution_count": 4,
     "metadata": {},
     "output_type": "execute_result"
    }
   ],
   "source": [
    "p = \"BATD\"\n",
    "q = \"ABACD\"\n",
    " \n",
    "def lcs(i, j) -> str:\n",
    "    if i >= len(p):\n",
    "        return ''\n",
    "    if j >= len(q):\n",
    "        return ''\n",
    "    if p[i] == q[j]:\n",
    "        return p[i] + lcs(i+1, j+1)\n",
    "    s1 = lcs(i, j+1)\n",
    "    s2 = lcs(i+1, j)\n",
    "\n",
    "    if len(s1) > len(s2):\n",
    "        return s1\n",
    "    return s2\n",
    "\n",
    "lcs(0, 0)"
   ]
  }
 ],
 "metadata": {
  "kernelspec": {
   "display_name": "Python 3",
   "language": "python",
   "name": "python3"
  },
  "language_info": {
   "codemirror_mode": {
    "name": "ipython",
    "version": 3
   },
   "file_extension": ".py",
   "mimetype": "text/x-python",
   "name": "python",
   "nbconvert_exporter": "python",
   "pygments_lexer": "ipython3",
   "version": "3.12.6"
  }
 },
 "nbformat": 4,
 "nbformat_minor": 2
}
