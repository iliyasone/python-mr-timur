{
 "cells": [
  {
   "cell_type": "markdown",
   "metadata": {},
   "source": [
    "# Кузнечики\n",
    "задание ЕГЭ 24"
   ]
  },
  {
   "cell_type": "markdown",
   "metadata": {},
   "source": [
    "### [problem 3607](https://inf-ege.sdamgia.ru/problem?id=3607)\n",
    "\n",
    "\n",
    "У исполнителя Калькулятор две команды, которым присвоены номера.\n",
    "\n",
    "1.  Прибавь 2.\n",
    "\n",
    "2.  Умножь на 5.\n",
    "\n",
    "Первая из них увеличивает число на экране на 2, вторая увеличивает его в 5 раз.\n",
    "\n",
    "Программа для Калькулятора  — это последовательность команд.\n",
    "\n",
    "Сколько есть программ, которые число 2 преобразуют в число 50?\n",
    "\n"
   ]
  },
  {
   "cell_type": "code",
   "execution_count": 2,
   "metadata": {},
   "outputs": [],
   "source": [
    "def count_paths(start: int,  stop: int) -> int:\n",
    "    return start + stop"
   ]
  },
  {
   "cell_type": "code",
   "execution_count": 5,
   "metadata": {},
   "outputs": [
    {
     "data": {
      "text/plain": [
       "'1.23.8'"
      ]
     },
     "execution_count": 5,
     "metadata": {},
     "output_type": "execute_result"
    }
   ],
   "source": [
    "count_paths('1.2', '3.8')"
   ]
  },
  {
   "cell_type": "code",
   "execution_count": null,
   "metadata": {},
   "outputs": [],
   "source": [
    "def join_strs_and_lowercase(a: str, b: str) -> str:\n",
    "    return a.lower() + b.lower()"
   ]
  },
  {
   "cell_type": "code",
   "execution_count": null,
   "metadata": {},
   "outputs": [],
   "source": [
    "result = join_strs_and_lowercase('HEY', \"ILIAS\")\n",
    "\n",
    "result"
   ]
  },
  {
   "cell_type": "markdown",
   "metadata": {},
   "source": [
    "### [problem 11358](https://inf-ege.sdamgia.ru/problem?id=11358)\n",
    "\n",
    "Исполнитель А16 преобразует число, записанное на экране.\n",
    "\n",
    "У исполнителя есть три команды, которым присвоены номера.\n",
    "\n",
    "1.  Прибавить 1.\n",
    "\n",
    "2.  Прибавить 2.\n",
    "\n",
    "3.  Умножить на 2.\n",
    "\n",
    "Первая из них увеличивает число на экране на 1, вторая увеличивает его на 2, третья умножает его на 2.\n",
    "\n",
    "Программа для исполнителя А16  — это последовательность команд.\n",
    "\n",
    "Сколько существует таких программ, которые исходное число 3 преобразуют в число 12 и при этом траектория вычислений программы содержит число 10?\n",
    "\n",
    "Траектория вычислений программы  — это последовательность результатов выполнения всех команд программы. Например, для программы 132 при исходном числе 7 траектория будет состоять из чисел 8, 16, 18.\n",
    "\n"
   ]
  },
  {
   "cell_type": "code",
   "execution_count": 5,
   "metadata": {},
   "outputs": [
    {
     "data": {
      "text/plain": [
       "13"
      ]
     },
     "execution_count": 5,
     "metadata": {},
     "output_type": "execute_result"
    }
   ],
   "source": [
    "def count_paths(start: int,  stop: int) -> int:\n",
    "    if start == stop:\n",
    "        return 1\n",
    "    if start > stop:\n",
    "        return 0\n",
    "    return count_paths(start + 1, stop) + count_paths(start * 2 + 1, stop)\n",
    "    \n",
    "count_paths(1, 27) - (count_paths(1, 25) * count_paths(25, 27))\n",
    "#^^^^^^^^^^^^^^^^^\n",
    "# ОБЩЕЕ 1 -> 27\n",
    "#                     ^^^^^^^^^^^^^^^^^^^^^^^^^^^^^^^^^^^^^^^^\n",
    "#                     Количество путей из 1 -> 27 \n",
    "#                     ЧЕРЕЗ 25\n",
    "# "
   ]
  },
  {
   "cell_type": "markdown",
   "metadata": {},
   "source": [
    "### [problem 13418](https://inf-ege.sdamgia.ru/problem?id=13418)\n",
    "\n",
    "Исполнитель НечетМ преобразует число на экране. У исполнителя НечетМ две команды, которым присвоены номера.\n",
    "\n",
    "1.  Прибавь 1.\n",
    "\n",
    "2.  Сделай нечётное.\n",
    "\n",
    "Первая из этих команд увеличивает число x на экране на 1, вторая переводит число x в число 2x + 1. Например, вторая команда переводит число 10 в число 21. Программа для исполнителя НечетМ  — это последовательность команд. Сколько существует таких программ, которые число 1 преобразуют в число 27, причём траектория вычислений не содержит число 26? Траектория вычислений программы  — это последовательность результатов выполнения всех команд программы. Например, для программы 121 при исходном числе 7 траектория будет состоять из чисел 8, 17, 18."
   ]
  },
  {
   "cell_type": "code",
   "execution_count": null,
   "metadata": {},
   "outputs": [],
   "source": [
    "def count_paths(start: int,  stop: int) -> int:\n",
    "    ..."
   ]
  },
  {
   "cell_type": "markdown",
   "metadata": {},
   "source": [
    "### [problem 15117](https://inf-ege.sdamgia.ru/problem?id=15117)\n",
    "\n",
    "Исполнитель Фибо преобразует число на экране.\n",
    "\n",
    "У исполнителя есть две команды, которым присвоены номера.\n",
    "\n",
    "1.  Прибавить 1.\n",
    "\n",
    "2.  Прибавить 2.\n",
    "\n",
    "Первая команда увеличивает число на экране на 1, вторая увеличивает его на 2.\n",
    "\n",
    "Программа для исполнителя Фибо  — это последовательность команд.\n",
    "\n",
    "Сколько существует программ, которые преобразуют исходное число 3 в число 20 и при этом траектория вычислений содержит число 9 и не содержит числа 15?\n",
    "\n",
    "Траектория вычислений  — это последовательность результатов выполнения всех команд программы. Например, для программы 212 при исходном числе 7 траектория будет состоять из чисел 9, 10, 12."
   ]
  },
  {
   "cell_type": "code",
   "execution_count": null,
   "metadata": {},
   "outputs": [],
   "source": [
    "def count_paths(start: int,  stop: int) -> int:\n",
    "    ..."
   ]
  },
  {
   "cell_type": "markdown",
   "metadata": {},
   "source": [
    "# Возведение в степень"
   ]
  },
  {
   "cell_type": "code",
   "execution_count": 4,
   "metadata": {},
   "outputs": [],
   "source": [
    "def slow_pow(x: int, a : int) -> int:\n",
    "    ...\n",
    "\n",
    "assert slow_pow(5, 2) == 25\n",
    "assert slow_pow(2, 10) == 1024"
   ]
  },
  {
   "cell_type": "markdown",
   "metadata": {},
   "source": [
    "# Быстрое возведение в степень"
   ]
  },
  {
   "cell_type": "code",
   "execution_count": 7,
   "metadata": {},
   "outputs": [],
   "source": [
    "def fast_pow(x: int, a: int) -> int:\n",
    "    ...\n",
    "\n",
    "\n",
    "assert fast_pow(5, 2) == 25\n",
    "assert fast_pow(2, 10) == 1024"
   ]
  },
  {
   "cell_type": "markdown",
   "metadata": {},
   "source": [
    "# Ханойские башни\n",
    "\n",
    "Задача сделать алгоритм который бы собирал ханойскую башню\n",
    "\n",
    "\n",
    "[Ссылка на игру](https://ru.goobix.com/%D0%B8%D0%B3%D1%80%D1%8B-%D0%BE%D0%BD%D0%BB%D0%B0%D0%B9%D0%BD/%D1%85%D0%B0%D0%BD%D0%BE%D0%B9%D1%81%D0%BA%D0%B0%D1%8F-%D0%B1%D0%B0%D1%88%D0%BD%D1%8F/#)"
   ]
  },
  {
   "cell_type": "code",
   "execution_count": 1,
   "metadata": {},
   "outputs": [],
   "source": [
    "n = 5\n",
    "\n",
    "a = list(range(n, 0, -1)) # a == [5, 4, 3, 2, 1]\n",
    "b = []\n",
    "c = []\n",
    "\n",
    "def move_disk(frm: list[int], to: list[int]):\n",
    "    to.append(frm.pop())\n",
    "    verify_road()\n",
    "\n",
    "def verify_road(road: list[int]) -> None:\n",
    "    if road != sorted(road, reverse=True):\n",
    "        raise ValueError(f\"Недопустимое состояние: {road}\")\n",
    "\n",
    "def print_all():\n",
    "    print(str(a).rjust(15),str(b).rjust(15),str(c).rjust(15))\n",
    "\n",
    "def hanoi(source, destination, buffer):\n",
    "    ..."
   ]
  },
  {
   "cell_type": "code",
   "execution_count": 6,
   "metadata": {},
   "outputs": [
    {
     "data": {
      "text/plain": [
       "[5, 4, 3, 2, 1]"
      ]
     },
     "execution_count": 6,
     "metadata": {},
     "output_type": "execute_result"
    }
   ],
   "source": [
    "sorted([4, 5, 3, 2, 1],reverse=True)"
   ]
  },
  {
   "cell_type": "code",
   "execution_count": 9,
   "metadata": {},
   "outputs": [
    {
     "data": {
      "text/plain": [
       "[1, 2, 3, 512]"
      ]
     },
     "execution_count": 9,
     "metadata": {},
     "output_type": "execute_result"
    }
   ],
   "source": [
    "a = [1, 2, 3]\n",
    "\n",
    "def append_to_list(some_list: list[int]) -> None:\n",
    "    \"\"\"append_to_list changes `some_list`\"\"\"\n",
    "    some_list.append(2*256)\n",
    "\n",
    "\n",
    "append_to_list(a)\n",
    "\n",
    "a"
   ]
  },
  {
   "cell_type": "code",
   "execution_count": 31,
   "metadata": {},
   "outputs": [],
   "source": [
    "a = [1, 3, 2]"
   ]
  },
  {
   "cell_type": "code",
   "execution_count": 39,
   "metadata": {},
   "outputs": [
    {
     "data": {
      "text/plain": [
       "'Привет121212121'"
      ]
     },
     "execution_count": 39,
     "metadata": {},
     "output_type": "execute_result"
    }
   ],
   "source": [
    "'Привет'.ljust(15, '1').replace('1', '12')[:15]"
   ]
  },
  {
   "cell_type": "code",
   "execution_count": 51,
   "metadata": {},
   "outputs": [
    {
     "data": {
      "text/plain": [
       "'0x2a74354c580'"
      ]
     },
     "execution_count": 51,
     "metadata": {},
     "output_type": "execute_result"
    }
   ],
   "source": [
    "hex(id(a))"
   ]
  },
  {
   "cell_type": "code",
   "execution_count": 52,
   "metadata": {},
   "outputs": [
    {
     "data": {
      "text/plain": [
       "-694320364487777395"
      ]
     },
     "execution_count": 52,
     "metadata": {},
     "output_type": "execute_result"
    }
   ],
   "source": [
    "hash('привет') "
   ]
  },
  {
   "cell_type": "code",
   "execution_count": 46,
   "metadata": {},
   "outputs": [
    {
     "data": {
      "text/plain": [
       "-694320364487777395"
      ]
     },
     "execution_count": 46,
     "metadata": {},
     "output_type": "execute_result"
    }
   ],
   "source": [
    "hash('привет')"
   ]
  },
  {
   "cell_type": "code",
   "execution_count": 33,
   "metadata": {},
   "outputs": [
    {
     "data": {
      "text/plain": [
       "[1, 3, 2]"
      ]
     },
     "execution_count": 33,
     "metadata": {},
     "output_type": "execute_result"
    }
   ],
   "source": [
    "a"
   ]
  },
  {
   "cell_type": "code",
   "execution_count": 23,
   "metadata": {},
   "outputs": [
    {
     "data": {
      "text/plain": [
       "(5, 4, 3, 2, 1)"
      ]
     },
     "execution_count": 23,
     "metadata": {},
     "output_type": "execute_result"
    }
   ],
   "source": [
    "tuple(\n",
    "    range(5, 0, -1)\n",
    ")"
   ]
  },
  {
   "cell_type": "code",
   "execution_count": 6,
   "metadata": {},
   "outputs": [],
   "source": []
  },
  {
   "cell_type": "code",
   "execution_count": 12,
   "metadata": {},
   "outputs": [
    {
     "name": "stdout",
     "output_type": "stream",
     "text": [
      "[4, 3, 2, 1]    []              []             \n",
      "1 -> 3\n",
      "[4, 3, 2]       []              [1]            \n",
      "1 -> 2\n",
      "[4, 3]          [2]             [1]            \n",
      "3 -> 2\n",
      "[4, 3]          [2, 1]          []             \n",
      "1 -> 3\n",
      "[4]             [2, 1]          [3]            \n",
      "2 -> 1\n",
      "[4, 1]          [2]             [3]            \n",
      "2 -> 3\n",
      "[4, 1]          []              [3, 2]         \n",
      "1 -> 3\n",
      "[4]             []              [3, 2, 1]      \n",
      "1 -> 2\n",
      "[]              [4]             [3, 2, 1]      \n",
      "3 -> 2\n",
      "[]              [4, 1]          [3, 2]         \n",
      "3 -> 1\n",
      "[2]             [4, 1]          [3]            \n",
      "2 -> 1\n",
      "[2, 1]          [4]             [3]            \n",
      "3 -> 2\n",
      "[2, 1]          [4, 3]          []             \n",
      "1 -> 3\n",
      "[2]             [4, 3]          [1]            \n",
      "1 -> 2\n",
      "[]              [4, 3, 2]       [1]            \n",
      "1 -> 2\n",
      "[]              [4, 3, 2, 1]    []             \n"
     ]
    }
   ],
   "source": []
  },
  {
   "cell_type": "markdown",
   "metadata": {},
   "source": [
    "# Фиббончи -- как ускорить?"
   ]
  },
  {
   "cell_type": "code",
   "execution_count": null,
   "metadata": {},
   "outputs": [],
   "source": [
    "N = 10\n",
    "\n",
    "def fib(n: int)  -> int:\n",
    "    if n <= 1:\n",
    "        return n\n",
    "    return fib(n - 1) + fib(n - 2)\n",
    "\n",
    "fib(N)\n",
    "\n",
    "assert fib(N) == 55"
   ]
  },
  {
   "cell_type": "markdown",
   "metadata": {},
   "source": [
    "## Мемоизация"
   ]
  },
  {
   "cell_type": "code",
   "execution_count": 8,
   "metadata": {},
   "outputs": [],
   "source": [
    "from functools import cache"
   ]
  },
  {
   "cell_type": "markdown",
   "metadata": {},
   "source": [
    "## Динамическое программиование"
   ]
  },
  {
   "cell_type": "code",
   "execution_count": null,
   "metadata": {},
   "outputs": [],
   "source": [
    "fib = [0] * N\n",
    "\n",
    "...\n",
    "\n",
    "\n",
    "assert fib[N] == 55"
   ]
  },
  {
   "cell_type": "code",
   "execution_count": 1,
   "metadata": {},
   "outputs": [],
   "source": [
    "def func_call(a: str):\n",
    "    print(a + 1)"
   ]
  },
  {
   "cell_type": "code",
   "execution_count": null,
   "metadata": {},
   "outputs": [],
   "source": []
  },
  {
   "cell_type": "code",
   "execution_count": 53,
   "metadata": {},
   "outputs": [],
   "source": [
    "a = [[] for _ in range(100)]"
   ]
  },
  {
   "cell_type": "code",
   "execution_count": 59,
   "metadata": {},
   "outputs": [],
   "source": [
    "def put_in_dict(obj):\n",
    "    a[hash(obj) % 100].append(obj)\n",
    "\n",
    "def find_in_dict(obj):\n",
    "    print(f'will search in the {hash(obj) % 100}')\n",
    "    return obj in a[hash(obj) % 100]"
   ]
  },
  {
   "cell_type": "code",
   "execution_count": 56,
   "metadata": {},
   "outputs": [],
   "source": [
    "put_in_dict('привет')"
   ]
  },
  {
   "cell_type": "code",
   "execution_count": 61,
   "metadata": {},
   "outputs": [
    {
     "name": "stdout",
     "output_type": "stream",
     "text": [
      "will search in the 99\n"
     ]
    },
    {
     "data": {
      "text/plain": [
       "False"
      ]
     },
     "execution_count": 61,
     "metadata": {},
     "output_type": "execute_result"
    }
   ],
   "source": [
    "find_in_dict('Привет')"
   ]
  },
  {
   "cell_type": "code",
   "execution_count": 70,
   "metadata": {},
   "outputs": [],
   "source": [
    "def level_1(x, y, z):\n",
    "    print(f'level 1: x={x} y={y} z={z}')\n",
    "\n",
    "\n",
    "    # level_2(x=z, y='ПРИВЕТ', z=x)\n",
    "    level_2(z, 'ПРИВЕТ', x)\n",
    "\n",
    "\n",
    "def level_2(x, y, z):\n",
    "    print(f'level 2: x={x} y={y} z={z}')\n",
    "\n"
   ]
  },
  {
   "cell_type": "code",
   "execution_count": 71,
   "metadata": {},
   "outputs": [
    {
     "name": "stdout",
     "output_type": "stream",
     "text": [
      "level 1: x=10 y=20 z=30\n",
      "level 2: x=30 y=ПРИВЕТ z=10\n"
     ]
    }
   ],
   "source": [
    "level_1(10, 20, 30)"
   ]
  }
 ],
 "metadata": {
  "kernelspec": {
   "display_name": "Python 3",
   "language": "python",
   "name": "python3"
  },
  "language_info": {
   "codemirror_mode": {
    "name": "ipython",
    "version": 3
   },
   "file_extension": ".py",
   "mimetype": "text/x-python",
   "name": "python",
   "nbconvert_exporter": "python",
   "pygments_lexer": "ipython3",
   "version": "3.12.6"
  }
 },
 "nbformat": 4,
 "nbformat_minor": 2
}
