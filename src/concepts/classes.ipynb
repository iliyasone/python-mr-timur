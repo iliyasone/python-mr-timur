{
 "cells": [
  {
   "cell_type": "code",
   "execution_count": 8,
   "metadata": {},
   "outputs": [],
   "source": [
    "# class Figure:\n",
    "#     def __init__(self, color: str, \n",
    "#                  position: tuple[int], \n",
    "#                  is_filled: bool) -> None:\n",
    "#         self.color = color\n",
    "#         self.position = position\n",
    "#         self.is_filled = is_filled\n",
    "\n",
    "#     # def area() -> float:\n",
    "#     #     print(\"hello world\")"
   ]
  },
  {
   "cell_type": "code",
   "execution_count": null,
   "metadata": {},
   "outputs": [],
   "source": [
    "# a = Figure.__init__(new_figure, \"RED\", (0, 0), True)\n",
    "# b = Figure(\"BLUE\", (2, 2), False)\n",
    "\n",
    "# print(a.color)"
   ]
  },
  {
   "cell_type": "code",
   "execution_count": 3,
   "metadata": {},
   "outputs": [],
   "source": [
    "class Vector:\n",
    "    COUNT_VECTORS = 0\n",
    "\n",
    "    def __init__(self, x: float, y: float):\n",
    "        self.x = x\n",
    "        self.y = y\n",
    "\n",
    "    def len_vector(self):\n",
    "        return (self.x**2 + self.y**2)**0.5\n",
    "\n",
    "    def scale_vector(self, n: float):\n",
    "        self.x = self.x * n\n",
    "        self.y = self.y * n"
   ]
  },
  {
   "cell_type": "code",
   "execution_count": 19,
   "metadata": {},
   "outputs": [],
   "source": [
    "class LieVector:\n",
    "    def len_vector(self):\n",
    "        return 1_000_000"
   ]
  },
  {
   "cell_type": "code",
   "execution_count": null,
   "metadata": {},
   "outputs": [],
   "source": [
    "v1 = Vector(3, 4)\n",
    "v2 = Vector(5, 6)"
   ]
  },
  {
   "cell_type": "markdown",
   "metadata": {},
   "source": [
    "-- inside memory --\n",
    "\n",
    "```python\n",
    "__class__ = Vector\n",
    "__dict__  = {\n",
    "    \"x\": 3,\n",
    "    \"y\": 4,\n",
    "    \"COUNT_VECTORS\": 5\n",
    "}\n",
    "```"
   ]
  },
  {
   "cell_type": "code",
   "execution_count": 20,
   "metadata": {},
   "outputs": [],
   "source": [
    "v1.__class__ = LieVector"
   ]
  },
  {
   "cell_type": "code",
   "execution_count": 23,
   "metadata": {},
   "outputs": [
    {
     "data": {
      "text/plain": [
       "{'x': 12, 'y': 16, 'COUNT_VECTORS': 7}"
      ]
     },
     "execution_count": 23,
     "metadata": {},
     "output_type": "execute_result"
    }
   ],
   "source": [
    "v1.__dict__"
   ]
  },
  {
   "cell_type": "code",
   "execution_count": 17,
   "metadata": {},
   "outputs": [
    {
     "data": {
      "text/plain": [
       "{'x': 12, 'y': 16, 'COUNT_VECTORS': 7}"
      ]
     },
     "execution_count": 17,
     "metadata": {},
     "output_type": "execute_result"
    }
   ],
   "source": [
    "v1.__dict__"
   ]
  },
  {
   "cell_type": "code",
   "execution_count": 14,
   "metadata": {},
   "outputs": [
    {
     "data": {
      "text/plain": [
       "0"
      ]
     },
     "execution_count": 14,
     "metadata": {},
     "output_type": "execute_result"
    }
   ],
   "source": [
    "v2.COUNT_VECTORS"
   ]
  },
  {
   "cell_type": "code",
   "execution_count": 15,
   "metadata": {},
   "outputs": [
    {
     "data": {
      "text/plain": [
       "{'x': 5, 'y': 6}"
      ]
     },
     "execution_count": 15,
     "metadata": {},
     "output_type": "execute_result"
    }
   ],
   "source": [
    "v2.__dict__"
   ]
  },
  {
   "cell_type": "code",
   "execution_count": 18,
   "metadata": {},
   "outputs": [
    {
     "data": {
      "text/plain": [
       "mappingproxy({'__module__': '__main__',\n",
       "              'COUNT_VECTORS': 0,\n",
       "              '__init__': <function __main__.Vector.__init__(self, x: float, y: float)>,\n",
       "              'len_vector': <function __main__.Vector.len_vector(self)>,\n",
       "              'scale_vector': <function __main__.Vector.scale_vector(self, n: float)>,\n",
       "              '__dict__': <attribute '__dict__' of 'Vector' objects>,\n",
       "              '__weakref__': <attribute '__weakref__' of 'Vector' objects>,\n",
       "              '__doc__': None})"
      ]
     },
     "execution_count": 18,
     "metadata": {},
     "output_type": "execute_result"
    }
   ],
   "source": [
    "Vector.__dict__"
   ]
  },
  {
   "cell_type": "code",
   "execution_count": 4,
   "metadata": {},
   "outputs": [
    {
     "name": "stdout",
     "output_type": "stream",
     "text": [
      "3 4\n",
      "5 6\n",
      "before scale:\t\t 5.0\n",
      "after scale:\t\t 10.0\n",
      "after second scale:\t 20.0\n"
     ]
    }
   ],
   "source": [
    "print(v1.x, v1.y)\n",
    "print(v2.x, v2.y)\n",
    "\n",
    "print('before scale:\\t\\t', Vector.len_vector(v1))\n",
    "Vector.scale_vector(v1, 2) \n",
    "\n",
    "print('after scale:\\t\\t', Vector.len_vector(v1))\n",
    "\n",
    "v1.scale_vector(2)\n",
    "\n",
    "print('after second scale:\\t', Vector.len_vector(v1))"
   ]
  }
 ],
 "metadata": {
  "kernelspec": {
   "display_name": "Python 3",
   "language": "python",
   "name": "python3"
  },
  "language_info": {
   "codemirror_mode": {
    "name": "ipython",
    "version": 3
   },
   "file_extension": ".py",
   "mimetype": "text/x-python",
   "name": "python",
   "nbconvert_exporter": "python",
   "pygments_lexer": "ipython3",
   "version": "3.12.6"
  }
 },
 "nbformat": 4,
 "nbformat_minor": 2
}
