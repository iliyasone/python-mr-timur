{
 "cells": [
  {
   "cell_type": "code",
   "execution_count": 18,
   "metadata": {},
   "outputs": [
    {
     "name": "stdout",
     "output_type": "stream",
     "text": [
      "usefull text\n",
      "hello world\n"
     ]
    }
   ],
   "source": [
    "global_variable = 'some usefull text'\n",
    "\n",
    "def read_global_variable():\n",
    "    print(global_variable)\n",
    "\n",
    "def set_global_variable_to_hello_world():\n",
    "    global global_variable\n",
    "    global_variable = 'hello world'\n",
    "    \n",
    "\n",
    "read_global_variable()\n",
    "set_global_variable_to_hello_world()\n",
    "read_global_variable()"
   ]
  },
  {
   "cell_type": "code",
   "execution_count": 16,
   "metadata": {},
   "outputs": [
    {
     "name": "stdout",
     "output_type": "stream",
     "text": [
      "6\n"
     ]
    }
   ],
   "source": [
    "x = -5\n",
    "\n",
    "def outer_function():\n",
    "    x = 5\n",
    "    def nested_function():\n",
    "        nonlocal x\n",
    "        x = x + 1\n",
    "        print(x)\n",
    "    \n",
    "    nested_function()\n",
    "\n",
    "outer_function()"
   ]
  },
  {
   "cell_type": "code",
   "execution_count": 19,
   "metadata": {},
   "outputs": [
    {
     "name": "stdout",
     "output_type": "stream",
     "text": [
      "usefull text\n",
      "hello world\n"
     ]
    }
   ],
   "source": [
    "# более предпочительно\n",
    "\n",
    "config = {\n",
    "    'input_file': 'usefull text',\n",
    "    'output_file': ''\n",
    "}\n",
    "\n",
    "def read_global_variable():\n",
    "    print(config['input_file'])\n",
    "\n",
    "def set_global_variable_to_hello_world():\n",
    "    config['input_file'] = 'hello world'\n",
    "\n",
    "read_global_variable()\n",
    "set_global_variable_to_hello_world()\n",
    "read_global_variable()"
   ]
  },
  {
   "cell_type": "code",
   "execution_count": 22,
   "metadata": {},
   "outputs": [
    {
     "data": {
      "text/plain": [
       "24"
      ]
     },
     "execution_count": 22,
     "metadata": {},
     "output_type": "execute_result"
    }
   ],
   "source": [
    "import sys\n",
    "\n",
    "x = 0.0\n",
    "\n",
    "sys.getsizeof(x)"
   ]
  },
  {
   "cell_type": "code",
   "execution_count": 23,
   "metadata": {},
   "outputs": [
    {
     "data": {
      "text/plain": [
       "'0x211d3077cd0'"
      ]
     },
     "execution_count": 23,
     "metadata": {},
     "output_type": "execute_result"
    }
   ],
   "source": [
    "hex(id(x))"
   ]
  },
  {
   "cell_type": "code",
   "execution_count": 25,
   "metadata": {},
   "outputs": [
    {
     "name": "stdout",
     "output_type": "stream",
     "text": [
      "Selected file path: \n"
     ]
    }
   ],
   "source": [
    "from tkinter import Tk, filedialog\n",
    "\n",
    "root = Tk()\n",
    "root.withdraw()  # Hide the main window\n",
    "\n",
    "file_path = filedialog.asksaveasfilename(\n",
    "    title=\"Save Output Image\",\n",
    "    defaultextension=\".png\",\n",
    "    filetypes=[(\"PNG Image\", \"*.png\"), (\"JPEG Image\", \"*.jpg;*.jpeg\")],\n",
    "    initialfile=\"scaled_image.png\"  # Specify default file name\n",
    ")\n",
    "\n",
    "print(\"Selected file path:\", file_path)\n",
    "\n"
   ]
  },
  {
   "cell_type": "code",
   "execution_count": null,
   "metadata": {},
   "outputs": [],
   "source": []
  }
 ],
 "metadata": {
  "kernelspec": {
   "display_name": "Python 3",
   "language": "python",
   "name": "python3"
  },
  "language_info": {
   "codemirror_mode": {
    "name": "ipython",
    "version": 3
   },
   "file_extension": ".py",
   "mimetype": "text/x-python",
   "name": "python",
   "nbconvert_exporter": "python",
   "pygments_lexer": "ipython3",
   "version": "3.12.6"
  }
 },
 "nbformat": 4,
 "nbformat_minor": 2
}
