{
 "cells": [
  {
   "cell_type": "code",
   "execution_count": 1,
   "metadata": {},
   "outputs": [
    {
     "data": {
      "text/plain": [
       "True"
      ]
     },
     "execution_count": 1,
     "metadata": {},
     "output_type": "execute_result"
    }
   ],
   "source": [
    "any([True, True, False, True])"
   ]
  },
  {
   "cell_type": "code",
   "execution_count": 3,
   "metadata": {},
   "outputs": [
    {
     "data": {
      "text/plain": [
       "True"
      ]
     },
     "execution_count": 3,
     "metadata": {},
     "output_type": "execute_result"
    }
   ],
   "source": [
    "all([True, True, False, True])"
   ]
  },
  {
   "cell_type": "code",
   "execution_count": 5,
   "metadata": {},
   "outputs": [
    {
     "data": {
      "text/plain": [
       "False"
      ]
     },
     "execution_count": 5,
     "metadata": {},
     "output_type": "execute_result"
    }
   ],
   "source": [
    "a = [1, 2, 3, -4, 5, 6, 7]\n",
    "\n",
    "any(x < 0 for x in a)"
   ]
  },
  {
   "cell_type": "code",
   "execution_count": 14,
   "metadata": {},
   "outputs": [
    {
     "data": {
      "text/plain": [
       "[False, False, True]"
      ]
     },
     "execution_count": 14,
     "metadata": {},
     "output_type": "execute_result"
    }
   ],
   "source": [
    "a = [1, 2, -3]\n",
    "[x < 0 for x in a]\n",
    "\n",
    "new_list = []\n",
    "for x in a:\n",
    "    new_list.append(x < 0)\n",
    "\n",
    "new_list"
   ]
  },
  {
   "cell_type": "code",
   "execution_count": 35,
   "metadata": {},
   "outputs": [],
   "source": [
    "def moves(s: int):\n",
    "    return s+1, s*2\n",
    "\n",
    "WIN_LIMIT = 29\n",
    "\n",
    "def is_position_winning(s: int, turns: int) -> bool | None:\n",
    "    if s >= WIN_LIMIT:\n",
    "        return False\n",
    "    \n",
    "    if turns < 1:\n",
    "        return None\n",
    "    \n",
    "    if any(is_position_winning(m, turns-1) is False for m in moves(s)):\n",
    "        return True\n",
    "\n",
    "    if all(is_position_winning(m, turns-1) is True for m in moves(s)):\n",
    "        return False\n",
    "    \n",
    "        \n",
    "    return None # ?\n"
   ]
  },
  {
   "cell_type": "code",
   "execution_count": 46,
   "metadata": {},
   "outputs": [
    {
     "name": "stdout",
     "output_type": "stream",
     "text": [
      "1\tNone\n",
      "2\tNone\n",
      "3\tNone\n",
      "4\tNone\n",
      "5\tNone\n",
      "6\tNone\n",
      "7\tTrue\n",
      "8\tNone\n",
      "9\tNone\n",
      "10\tNone\n",
      "11\tNone\n",
      "12\tFalse\n",
      "13\tTrue\n",
      "14\tFalse\n",
      "15\tTrue\n",
      "16\tTrue\n",
      "17\tTrue\n",
      "18\tTrue\n",
      "19\tTrue\n",
      "20\tTrue\n",
      "21\tTrue\n",
      "22\tTrue\n",
      "23\tTrue\n",
      "24\tTrue\n",
      "25\tTrue\n",
      "26\tTrue\n",
      "27\tTrue\n",
      "28\tTrue\n"
     ]
    }
   ],
   "source": [
    "for i in range(1, WIN_LIMIT):\n",
    "    print(i, is_position_winning(i, 4), sep='\\t')\n",
    "# 19. 14\n",
    "# 20. 7 13\n",
    "# 21. 12"
   ]
  },
  {
   "cell_type": "code",
   "execution_count": 54,
   "metadata": {},
   "outputs": [
    {
     "name": "stdout",
     "output_type": "stream",
     "text": [
      "19. [14]\n",
      "20. [7, 13]\n",
      "21. [12]\n"
     ]
    }
   ],
   "source": [
    "print('19.', [i for i in range(WIN_LIMIT) if is_position_winning(i, 2) is False])\n",
    "\n",
    "print('20.', [i for i in range(WIN_LIMIT) if is_position_winning(i, 3) is True and not is_position_winning(i, 1)])\n",
    "\n",
    "print('21.', [i for i in range(WIN_LIMIT) if is_position_winning(i, 4) is False and \n",
    "                                             is_position_winning(i, 2) is not False])"
   ]
  }
 ],
 "metadata": {
  "kernelspec": {
   "display_name": ".venv",
   "language": "python",
   "name": "python3"
  },
  "language_info": {
   "codemirror_mode": {
    "name": "ipython",
    "version": 3
   },
   "file_extension": ".py",
   "mimetype": "text/x-python",
   "name": "python",
   "nbconvert_exporter": "python",
   "pygments_lexer": "ipython3",
   "version": "3.12.6"
  }
 },
 "nbformat": 4,
 "nbformat_minor": 2
}
