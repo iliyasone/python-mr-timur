{
 "cells": [
  {
   "cell_type": "code",
   "execution_count": 3,
   "metadata": {},
   "outputs": [],
   "source": [
    "N = 18\n",
    "M = 18\n",
    "field = [\n",
    "    [53,\t1,  \t55, \t23, \t47, \t89, \t64, \t23, \t37, \t15,\t32,\t49,\t54,\t85,\t1,\t85,\t45,\t88,],\n",
    "    [57,\t77, \t92, \t94, \t60, \t20, \t73, \t5,\t    61,\t    7,\t37,\t8,\t90,\t99,\t59,\t22,\t66,\t17,],\n",
    "    [ 8,\t86, \t52, \t 7, \t98, \t76, \t2,  \t57, \t11, \t47,\t59,\t1,\t54,\t100,81,\t1,\t60,\t5,],\n",
    "    [46,\t96, \t76, \t19, \t12, \t11, \t21, \t61, \t75, \t30,\t60,\t60,\t29,\t75,\t78,\t50,\t50,\t22,],\n",
    "    [61,\t67, \t50, \t50, \t79, \t87, \t35, \t99, \t35, \t9,\t7,\t63,\t53,\t56,\t36,\t36,\t80,\t75,],\n",
    "    [ 6,\t82, \t93, \t83, \t78, \t81, \t28, \t44, \t87, \t89,\t29,\t73,\t74,\t75,\t43,\t54,\t82,\t71,],\n",
    "    [ 5,\t94, \t87, \t99, \t37, \t28, \t84, \t70, \t88, \t36,\t59,\t81,\t2,\t71,\t15,\t96,\t84,\t41,],\n",
    "    [44,\t23, \t 1, \t18, \t34, \t28, \t83, \t77, \t57, \t43,\t18,\t82,\t75,\t12,\t39,\t64,\t14,\t90,],\n",
    "    [18,\t10, \t66, \t74, \t67, \t12, \t68, \t92, \t3,\t    26,\t80,\t78,\t4,\t88,\t31,\t76,\t52,\t98,],\n",
    "    [82,\t64, \t20, \t9,  \t87, \t64, \t15, \t79, \t55, \t36,\t20,\t3,\t37,\t38,\t38,\t91,\t54,\t83,],\n",
    "    [66,\t31, \t48, \t65, \t97, \t50, \t9,  \t89, \t31, \t81,\t46,\t21,\t94,\t24,\t20,\t55,\t57,\t61,],\n",
    "    [79,\t13, \t75, \t45, \t16, \t4,  \t39, \t55, \t77, \t26,\t30,\t67,\t87,\t52,\t32,\t98,\t85,\t14,],\n",
    "    [63,\t22, \t 2, \t88, \t25, \t97, \t67, \t29, \t91, \t40,\t40,\t19,\t95,\t80,\t57,\t99,\t100,11,],\n",
    "    [99,\t54, \t77, \t87, \t23, \t30, \t26, \t99, \t94, \t64,\t29,\t19,\t25,\t98,\t69,\t46,\t48,\t5,],\n",
    "    [10,\t 5, \t 6, \t13, \t89, \t90, \t20, \t35, \t87, \t79,\t85,\t65,\t97,\t5,\t68,\t90,\t3,\t20,],\n",
    "    [31,\t56, \t26, \t60, \t30, \t3,  \t49, \t17, \t61, \t9,\t1,\t15,\t55,\t54,\t21,\t35,\t45,\t47,],\n",
    "    [ 4,\t38, \t13, \t21, \t100,    13, \t46, \t24, \t18, \t69,\t21,\t80,\t16,\t77,\t55,\t68,\t86,\t54,],\n",
    "    [71,\t88, \t70, \t52, \t67, \t15, \t93, \t23, \t48, \t12,\t1,\t52,\t23,\t3,\t8,\t55,\t7,\t7,]\n",
    "]"
   ]
  },
  {
   "cell_type": "code",
   "execution_count": 4,
   "metadata": {},
   "outputs": [],
   "source": [
    "max_costs = [[0] * M for _ in range(N)]\n",
    "\n",
    "def print_max_costs():\n",
    "    print(*max_costs,sep='\\n') # вывод списка"
   ]
  },
  {
   "cell_type": "code",
   "execution_count": 6,
   "metadata": {},
   "outputs": [
    {
     "name": "stdout",
     "output_type": "stream",
     "text": [
      "[53, 0, 0, 0, 0, 0, 0, 0, 0, 0, 0, 0, 0, 0, 0, 0, 0, 0]\n",
      "[110, 0, 0, 0, 0, 0, 0, 0, 0, 0, 0, 0, 0, 0, 0, 0, 0, 0]\n",
      "[118, 0, 0, 0, 0, 0, 0, 0, 0, 0, 0, 0, 0, 0, 0, 0, 0, 0]\n",
      "[164, 0, 0, 0, 0, 0, 0, 0, 0, 0, 0, 0, 0, 0, 0, 0, 0, 0]\n",
      "[225, 0, 0, 0, 0, 0, 0, 0, 0, 0, 0, 0, 0, 0, 0, 0, 0, 0]\n",
      "[231, 0, 0, 0, 0, 0, 0, 0, 0, 0, 0, 0, 0, 0, 0, 0, 0, 0]\n",
      "[236, 0, 0, 0, 0, 0, 0, 0, 0, 0, 0, 0, 0, 0, 0, 0, 0, 0]\n",
      "[280, 0, 0, 0, 0, 0, 0, 0, 0, 0, 0, 0, 0, 0, 0, 0, 0, 0]\n",
      "[298, 0, 0, 0, 0, 0, 0, 0, 0, 0, 0, 0, 0, 0, 0, 0, 0, 0]\n",
      "[380, 0, 0, 0, 0, 0, 0, 0, 0, 0, 0, 0, 0, 0, 0, 0, 0, 0]\n",
      "[446, 0, 0, 0, 0, 0, 0, 0, 0, 0, 0, 0, 0, 0, 0, 0, 0, 0]\n",
      "[525, 0, 0, 0, 0, 0, 0, 0, 0, 0, 0, 0, 0, 0, 0, 0, 0, 0]\n",
      "[588, 0, 0, 0, 0, 0, 0, 0, 0, 0, 0, 0, 0, 0, 0, 0, 0, 0]\n",
      "[687, 0, 0, 0, 0, 0, 0, 0, 0, 0, 0, 0, 0, 0, 0, 0, 0, 0]\n",
      "[697, 0, 0, 0, 0, 0, 0, 0, 0, 0, 0, 0, 0, 0, 0, 0, 0, 0]\n",
      "[728, 0, 0, 0, 0, 0, 0, 0, 0, 0, 0, 0, 0, 0, 0, 0, 0, 0]\n",
      "[732, 0, 0, 0, 0, 0, 0, 0, 0, 0, 0, 0, 0, 0, 0, 0, 0, 0]\n",
      "[803, 0, 0, 0, 0, 0, 0, 0, 0, 0, 0, 0, 0, 0, 0, 0, 0, 0]\n"
     ]
    }
   ],
   "source": [
    "max_costs[0][0] = field[0][0]\n",
    "\n",
    "for i in range(1, N):\n",
    "    max_costs[i][0] = field[i][0] + max_costs[i-1][0]\n",
    "\n",
    "for j in range(1, M):\n",
    "    ...\n",
    "\n",
    "for i in range(1, N):\n",
    "    for j in range(1, M):\n",
    "        ...\n",
    "\n",
    "print_max_costs()\n"
   ]
  },
  {
   "cell_type": "code",
   "execution_count": 36,
   "metadata": {},
   "outputs": [
    {
     "data": {
      "text/plain": [
       "2571"
      ]
     },
     "execution_count": 36,
     "metadata": {},
     "output_type": "execute_result"
    }
   ],
   "source": [
    "from functools import cache\n",
    "\n",
    "@cache\n",
    "def max_value_in_point(i, j):\n",
    "    if i == 0 and j == 0:\n",
    "        return field[0][0]\n",
    "    if i == 0:\n",
    "        return field[i][j] + max_value_in_point(i, j-1)\n",
    "    if j == 0:\n",
    "        return field[i][j] + max_value_in_point(i-1, j)\n",
    "    return field[i][j] + max(max_value_in_point(i-1,j), max_value_in_point(i,j-1))\n",
    "\n",
    "max_value_in_point(M-1, N-1)"
   ]
  },
  {
   "cell_type": "markdown",
   "metadata": {},
   "source": [
    "#  Про списки списков"
   ]
  },
  {
   "cell_type": "code",
   "execution_count": 7,
   "metadata": {},
   "outputs": [
    {
     "data": {
      "text/plain": [
       "[[1, 2, 3], [1, 2, 3], [1, 2, 3]]"
      ]
     },
     "execution_count": 7,
     "metadata": {},
     "output_type": "execute_result"
    }
   ],
   "source": [
    "[\n",
    "    [1, 2, 3],\n",
    "    [1, 2, 3],\n",
    "    [1, 2, 3]\n",
    "]"
   ]
  },
  {
   "cell_type": "code",
   "execution_count": 12,
   "metadata": {},
   "outputs": [],
   "source": [
    "f = [[0] * M] * N"
   ]
  },
  {
   "cell_type": "code",
   "execution_count": 13,
   "metadata": {},
   "outputs": [],
   "source": [
    "f[0][0] = 1"
   ]
  },
  {
   "cell_type": "code",
   "execution_count": 14,
   "metadata": {},
   "outputs": [
    {
     "data": {
      "text/plain": [
       "[[1, 0, 0, 0, 0, 0, 0, 0, 0, 0, 0, 0, 0, 0, 0, 0, 0, 0],\n",
       " [1, 0, 0, 0, 0, 0, 0, 0, 0, 0, 0, 0, 0, 0, 0, 0, 0, 0],\n",
       " [1, 0, 0, 0, 0, 0, 0, 0, 0, 0, 0, 0, 0, 0, 0, 0, 0, 0],\n",
       " [1, 0, 0, 0, 0, 0, 0, 0, 0, 0, 0, 0, 0, 0, 0, 0, 0, 0],\n",
       " [1, 0, 0, 0, 0, 0, 0, 0, 0, 0, 0, 0, 0, 0, 0, 0, 0, 0],\n",
       " [1, 0, 0, 0, 0, 0, 0, 0, 0, 0, 0, 0, 0, 0, 0, 0, 0, 0],\n",
       " [1, 0, 0, 0, 0, 0, 0, 0, 0, 0, 0, 0, 0, 0, 0, 0, 0, 0],\n",
       " [1, 0, 0, 0, 0, 0, 0, 0, 0, 0, 0, 0, 0, 0, 0, 0, 0, 0],\n",
       " [1, 0, 0, 0, 0, 0, 0, 0, 0, 0, 0, 0, 0, 0, 0, 0, 0, 0],\n",
       " [1, 0, 0, 0, 0, 0, 0, 0, 0, 0, 0, 0, 0, 0, 0, 0, 0, 0],\n",
       " [1, 0, 0, 0, 0, 0, 0, 0, 0, 0, 0, 0, 0, 0, 0, 0, 0, 0],\n",
       " [1, 0, 0, 0, 0, 0, 0, 0, 0, 0, 0, 0, 0, 0, 0, 0, 0, 0],\n",
       " [1, 0, 0, 0, 0, 0, 0, 0, 0, 0, 0, 0, 0, 0, 0, 0, 0, 0],\n",
       " [1, 0, 0, 0, 0, 0, 0, 0, 0, 0, 0, 0, 0, 0, 0, 0, 0, 0],\n",
       " [1, 0, 0, 0, 0, 0, 0, 0, 0, 0, 0, 0, 0, 0, 0, 0, 0, 0],\n",
       " [1, 0, 0, 0, 0, 0, 0, 0, 0, 0, 0, 0, 0, 0, 0, 0, 0, 0],\n",
       " [1, 0, 0, 0, 0, 0, 0, 0, 0, 0, 0, 0, 0, 0, 0, 0, 0, 0],\n",
       " [1, 0, 0, 0, 0, 0, 0, 0, 0, 0, 0, 0, 0, 0, 0, 0, 0, 0]]"
      ]
     },
     "execution_count": 14,
     "metadata": {},
     "output_type": "execute_result"
    }
   ],
   "source": [
    "f"
   ]
  },
  {
   "cell_type": "code",
   "execution_count": 16,
   "metadata": {},
   "outputs": [],
   "source": [
    "a = [0, 0, 0]\n",
    "\n",
    "# f = [a] * 4\n",
    "f = [a, a, a, a]"
   ]
  },
  {
   "cell_type": "code",
   "execution_count": 20,
   "metadata": {},
   "outputs": [
    {
     "data": {
      "text/plain": [
       "True"
      ]
     },
     "execution_count": 20,
     "metadata": {},
     "output_type": "execute_result"
    }
   ],
   "source": [
    "f[0] is f[1]"
   ]
  },
  {
   "cell_type": "code",
   "execution_count": 28,
   "metadata": {},
   "outputs": [
    {
     "data": {
      "text/plain": [
       "[0, 0, 0, 0, 0, 0, 0, 0, 0, 0]"
      ]
     },
     "execution_count": 28,
     "metadata": {},
     "output_type": "execute_result"
    }
   ],
   "source": [
    "f = [0] * 10\n",
    "f"
   ]
  },
  {
   "cell_type": "code",
   "execution_count": 29,
   "metadata": {},
   "outputs": [
    {
     "data": {
      "text/plain": [
       "True"
      ]
     },
     "execution_count": 29,
     "metadata": {},
     "output_type": "execute_result"
    }
   ],
   "source": [
    "# f[0] is f[1] is f[2] ..."
   ]
  },
  {
   "cell_type": "markdown",
   "metadata": {},
   "source": [
    "# x vs y"
   ]
  },
  {
   "cell_type": "code",
   "execution_count": 1,
   "metadata": {},
   "outputs": [
    {
     "ename": "NameError",
     "evalue": "name 'y' is not defined",
     "output_type": "error",
     "traceback": [
      "\u001b[1;31m---------------------------------------------------------------------------\u001b[0m",
      "\u001b[1;31mNameError\u001b[0m                                 Traceback (most recent call last)",
      "Cell \u001b[1;32mIn[1], line 3\u001b[0m\n\u001b[0;32m      1\u001b[0m \u001b[38;5;28;01mfor\u001b[39;00m x \u001b[38;5;129;01min\u001b[39;00m \u001b[38;5;28mrange\u001b[39m(\u001b[38;5;241m5\u001b[39m):\n\u001b[0;32m      2\u001b[0m     \u001b[38;5;28;01mfor\u001b[39;00m x \u001b[38;5;129;01min\u001b[39;00m \u001b[38;5;28mrange\u001b[39m(\u001b[38;5;241m5\u001b[39m):\n\u001b[1;32m----> 3\u001b[0m         \u001b[38;5;28mprint\u001b[39m(\u001b[38;5;124mf\u001b[39m\u001b[38;5;124m\"\u001b[39m\u001b[38;5;132;01m{\u001b[39;00mx\u001b[38;5;132;01m=}\u001b[39;00m\u001b[38;5;124m \u001b[39m\u001b[38;5;132;01m{\u001b[39;00m\u001b[43my\u001b[49m\u001b[38;5;132;01m=}\u001b[39;00m\u001b[38;5;124m\"\u001b[39m)\n",
      "\u001b[1;31mNameError\u001b[0m: name 'y' is not defined"
     ]
    }
   ],
   "source": [
    "for x in range(5):\n",
    "    for y in range(5):\n",
    "        print(f\"{x=} {y=}\")"
   ]
  }
 ],
 "metadata": {
  "kernelspec": {
   "display_name": "Python 3",
   "language": "python",
   "name": "python3"
  },
  "language_info": {
   "codemirror_mode": {
    "name": "ipython",
    "version": 3
   },
   "file_extension": ".py",
   "mimetype": "text/x-python",
   "name": "python",
   "nbconvert_exporter": "python",
   "pygments_lexer": "ipython3",
   "version": "3.12.6"
  }
 },
 "nbformat": 4,
 "nbformat_minor": 2
}
